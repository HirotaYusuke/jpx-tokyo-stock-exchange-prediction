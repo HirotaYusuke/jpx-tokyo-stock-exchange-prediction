{
 "cells": [
  {
   "cell_type": "code",
   "execution_count": 2,
   "id": "eeeeabc9-60f0-48ff-931e-6ee5067b503a",
   "metadata": {},
   "outputs": [],
   "source": [
    "from pyexpat import model\n",
    "import requests\n",
    "import time\n",
    "import pandas as pd, numpy as np\n",
    "import seaborn as sns\n",
    "\n",
    "import matplotlib\n",
    "import matplotlib.pyplot as plt\n",
    "import pickle\n",
    "import datetime as dt\n",
    "\n",
    "from sklearn.metrics import r2_score\n",
    "from sklearn.metrics import mean_squared_error\n",
    "from sklearn.model_selection import RandomizedSearchCV\n",
    "from sklearn.model_selection import TimeSeriesSplit, train_test_split, KFold\n",
    "\n",
    "import lightgbm as lgb\n",
    "from skopt import BayesSearchCV\n",
    "from lightgbm import early_stopping\n",
    "from lightgbm import log_evaluation\n",
    "from lightgbm import LGBMRegressor\n",
    "#import optuna\n",
    "#import optuna.integration.lightgbm as lgb_tune\n",
    "#import optuna.integration.lightgbm as optuna_lgb\n",
    "from sklearn.model_selection import KFold\n",
    "\n",
    "#from skopt.space import Real, Categorical, Integer"
   ]
  },
  {
   "cell_type": "code",
   "execution_count": 3,
   "id": "cae9c8c1-363d-43ae-9bb7-1788a264e495",
   "metadata": {},
   "outputs": [],
   "source": [
    "prices = pd.read_csv(\"./data/jpx-tokyo-stock-exchange-prediction/supplemental_files/stock_prices.csv\")\n",
    "\n",
    "average = pd.DataFrame(prices.groupby(\"SecuritiesCode\").Target.mean())\n",
    "def get_avg(_id_):\n",
    "    return average.loc[_id_]\n",
    "prices[\"Avg\"] = prices[\"SecuritiesCode\"].apply(get_avg)\n",
    "\n",
    "prices.Date = pd.to_datetime(prices.Date)\n",
    "prices['Date'] = prices['Date'].dt.strftime(\"%Y%m%d\").astype(int)"
   ]
  },
  {
   "cell_type": "code",
   "execution_count": 4,
   "id": "ac12e8cc-628a-426b-afc5-6e7e1f44b730",
   "metadata": {},
   "outputs": [],
   "source": [
    "X=prices[[\"Date\",\"SecuritiesCode\",\"Open\", \"High\", \"Low\", \"Close\", \"Volume\", \"Avg\",]]\n",
    "y=prices[[\"Target\"]]"
   ]
  },
  {
   "cell_type": "code",
   "execution_count": 8,
   "id": "566643cc-0c55-474d-9dfc-08f32e88e3e2",
   "metadata": {},
   "outputs": [
    {
     "data": {
      "text/html": [
       "<div>\n",
       "<style scoped>\n",
       "    .dataframe tbody tr th:only-of-type {\n",
       "        vertical-align: middle;\n",
       "    }\n",
       "\n",
       "    .dataframe tbody tr th {\n",
       "        vertical-align: top;\n",
       "    }\n",
       "\n",
       "    .dataframe thead th {\n",
       "        text-align: right;\n",
       "    }\n",
       "</style>\n",
       "<table border=\"1\" class=\"dataframe\">\n",
       "  <thead>\n",
       "    <tr style=\"text-align: right;\">\n",
       "      <th></th>\n",
       "      <th>Date</th>\n",
       "      <th>SecuritiesCode</th>\n",
       "      <th>Open</th>\n",
       "      <th>High</th>\n",
       "      <th>Low</th>\n",
       "      <th>Close</th>\n",
       "      <th>Volume</th>\n",
       "      <th>Avg</th>\n",
       "    </tr>\n",
       "  </thead>\n",
       "  <tbody>\n",
       "    <tr>\n",
       "      <th>0</th>\n",
       "      <td>20211206</td>\n",
       "      <td>1301</td>\n",
       "      <td>2982.0</td>\n",
       "      <td>2982.0</td>\n",
       "      <td>2965.0</td>\n",
       "      <td>2971.0</td>\n",
       "      <td>8900</td>\n",
       "      <td>0.000968</td>\n",
       "    </tr>\n",
       "    <tr>\n",
       "      <th>1</th>\n",
       "      <td>20211206</td>\n",
       "      <td>1332</td>\n",
       "      <td>592.0</td>\n",
       "      <td>599.0</td>\n",
       "      <td>588.0</td>\n",
       "      <td>589.0</td>\n",
       "      <td>1360800</td>\n",
       "      <td>-0.000949</td>\n",
       "    </tr>\n",
       "    <tr>\n",
       "      <th>2</th>\n",
       "      <td>20211206</td>\n",
       "      <td>1333</td>\n",
       "      <td>2368.0</td>\n",
       "      <td>2388.0</td>\n",
       "      <td>2360.0</td>\n",
       "      <td>2377.0</td>\n",
       "      <td>125900</td>\n",
       "      <td>0.000273</td>\n",
       "    </tr>\n",
       "    <tr>\n",
       "      <th>3</th>\n",
       "      <td>20211206</td>\n",
       "      <td>1375</td>\n",
       "      <td>1230.0</td>\n",
       "      <td>1239.0</td>\n",
       "      <td>1224.0</td>\n",
       "      <td>1224.0</td>\n",
       "      <td>81100</td>\n",
       "      <td>-0.000788</td>\n",
       "    </tr>\n",
       "    <tr>\n",
       "      <th>4</th>\n",
       "      <td>20211206</td>\n",
       "      <td>1376</td>\n",
       "      <td>1339.0</td>\n",
       "      <td>1372.0</td>\n",
       "      <td>1339.0</td>\n",
       "      <td>1351.0</td>\n",
       "      <td>6200</td>\n",
       "      <td>0.001423</td>\n",
       "    </tr>\n",
       "  </tbody>\n",
       "</table>\n",
       "</div>"
      ],
      "text/plain": [
       "       Date  SecuritiesCode    Open    High     Low   Close   Volume       Avg\n",
       "0  20211206            1301  2982.0  2982.0  2965.0  2971.0     8900  0.000968\n",
       "1  20211206            1332   592.0   599.0   588.0   589.0  1360800 -0.000949\n",
       "2  20211206            1333  2368.0  2388.0  2360.0  2377.0   125900  0.000273\n",
       "3  20211206            1375  1230.0  1239.0  1224.0  1224.0    81100 -0.000788\n",
       "4  20211206            1376  1339.0  1372.0  1339.0  1351.0     6200  0.001423"
      ]
     },
     "execution_count": 8,
     "metadata": {},
     "output_type": "execute_result"
    }
   ],
   "source": [
    "X.head()"
   ]
  },
  {
   "cell_type": "code",
   "execution_count": 9,
   "id": "8bb9bff7-148b-4b68-9131-72bf9565eb3a",
   "metadata": {},
   "outputs": [
    {
     "data": {
      "text/html": [
       "<div>\n",
       "<style scoped>\n",
       "    .dataframe tbody tr th:only-of-type {\n",
       "        vertical-align: middle;\n",
       "    }\n",
       "\n",
       "    .dataframe tbody tr th {\n",
       "        vertical-align: top;\n",
       "    }\n",
       "\n",
       "    .dataframe thead th {\n",
       "        text-align: right;\n",
       "    }\n",
       "</style>\n",
       "<table border=\"1\" class=\"dataframe\">\n",
       "  <thead>\n",
       "    <tr style=\"text-align: right;\">\n",
       "      <th></th>\n",
       "      <th>Target</th>\n",
       "    </tr>\n",
       "  </thead>\n",
       "  <tbody>\n",
       "    <tr>\n",
       "      <th>0</th>\n",
       "      <td>-0.003263</td>\n",
       "    </tr>\n",
       "    <tr>\n",
       "      <th>1</th>\n",
       "      <td>-0.008993</td>\n",
       "    </tr>\n",
       "    <tr>\n",
       "      <th>2</th>\n",
       "      <td>-0.009963</td>\n",
       "    </tr>\n",
       "    <tr>\n",
       "      <th>3</th>\n",
       "      <td>-0.015032</td>\n",
       "    </tr>\n",
       "    <tr>\n",
       "      <th>4</th>\n",
       "      <td>0.002867</td>\n",
       "    </tr>\n",
       "  </tbody>\n",
       "</table>\n",
       "</div>"
      ],
      "text/plain": [
       "     Target\n",
       "0 -0.003263\n",
       "1 -0.008993\n",
       "2 -0.009963\n",
       "3 -0.015032\n",
       "4  0.002867"
      ]
     },
     "execution_count": 9,
     "metadata": {},
     "output_type": "execute_result"
    }
   ],
   "source": [
    "y.head()"
   ]
  },
  {
   "cell_type": "code",
   "execution_count": 5,
   "id": "66b5be04-c736-482d-a52f-85ae0e95710b",
   "metadata": {},
   "outputs": [
    {
     "name": "stdout",
     "output_type": "stream",
     "text": [
      "R2(date=datetime)0.750679766373988:\n"
     ]
    }
   ],
   "source": [
    "model2=LGBMRegressor(num_leaves=500, learning_rate=0.1, n_estimators=300)\n",
    "model2.fit(X,y)\n",
    "r2_2 = model2.score(X,y)\n",
    "print(f'R2(date=datetime){r2_2}:')"
   ]
  },
  {
   "cell_type": "code",
   "execution_count": 7,
   "id": "1c2cd5fa-b85c-4027-bc49-48faaa2e3ac7",
   "metadata": {},
   "outputs": [
    {
     "data": {
      "text/plain": [
       "[<matplotlib.lines.Line2D at 0x7f5502e52d60>]"
      ]
     },
     "execution_count": 7,
     "metadata": {},
     "output_type": "execute_result"
    },
    {
     "data": {
      "image/png": "[encoded data removed]",
      "text/plain": [
       "<Figure size 432x288 with 1 Axes>"
      ]
     },
     "metadata": {
      "needs_background": "light"
     },
     "output_type": "display_data"
    }
   ],
   "source": [
    "plt.plot(model2.predict(X[X.SecuritiesCode == 1301]))\n",
    "plt.plot(np.array(prices[prices.SecuritiesCode == 1301].Target))"
   ]
  },
  {
   "cell_type": "code",
   "execution_count": 19,
   "id": "e6d7ebb0-c8a5-4c8c-906c-c04cf163653b",
   "metadata": {},
   "outputs": [
    {
     "name": "stdout",
     "output_type": "stream",
     "text": [
      "Defaulting to user installation because normal site-packages is not writeable\n",
      "Collecting shap\n",
      "  Downloading shap-0.40.0-cp39-cp39-manylinux2010_x86_64.whl (567 kB)\n",
      "\u001b[K     |████████████████████████████████| 567 kB 9.7 MB/s eta 0:00:01\n",
      "\u001b[?25hRequirement already satisfied: tqdm>4.25.0 in /usr/local/pyenv/versions/3.9.1/lib/python3.9/site-packages (from shap) (4.60.0)\n",
      "Collecting slicer==0.0.7\n",
      "  Downloading slicer-0.0.7-py3-none-any.whl (14 kB)\n",
      "Requirement already satisfied: numba in /home/hirota/.local/lib/python3.9/site-packages (from shap) (0.54.1)\n",
      "Requirement already satisfied: cloudpickle in /home/hirota/.local/lib/python3.9/site-packages (from shap) (2.0.0)\n",
      "Requirement already satisfied: scikit-learn in /home/hirota/.local/lib/python3.9/site-packages (from shap) (0.24.2)\n",
      "Requirement already satisfied: scipy in /home/hirota/.local/lib/python3.9/site-packages (from shap) (1.5.4)\n",
      "Requirement already satisfied: pandas in /usr/local/pyenv/versions/3.9.1/lib/python3.9/site-packages (from shap) (1.2.4)\n",
      "Collecting packaging>20.9\n",
      "  Using cached packaging-21.3-py3-none-any.whl (40 kB)\n",
      "Requirement already satisfied: numpy in /usr/local/pyenv/versions/3.9.1/lib/python3.9/site-packages (from shap) (1.19.5)\n",
      "Requirement already satisfied: pyparsing!=3.0.5,>=2.0.2 in /usr/local/pyenv/versions/3.9.1/lib/python3.9/site-packages (from packaging>20.9->shap) (2.4.7)\n",
      "Requirement already satisfied: llvmlite<0.38,>=0.37.0rc1 in /home/hirota/.local/lib/python3.9/site-packages (from numba->shap) (0.37.0)\n",
      "Requirement already satisfied: setuptools in /usr/local/pyenv/versions/3.9.1/lib/python3.9/site-packages (from numba->shap) (56.0.0)\n",
      "Requirement already satisfied: pytz>=2017.3 in /usr/local/pyenv/versions/3.9.1/lib/python3.9/site-packages (from pandas->shap) (2021.1)\n",
      "Requirement already satisfied: python-dateutil>=2.7.3 in /usr/local/pyenv/versions/3.9.1/lib/python3.9/site-packages (from pandas->shap) (2.8.1)\n",
      "Requirement already satisfied: six>=1.5 in /usr/local/pyenv/versions/3.9.1/lib/python3.9/site-packages (from python-dateutil>=2.7.3->pandas->shap) (1.15.0)\n",
      "Requirement already satisfied: joblib>=0.11 in /home/hirota/.local/lib/python3.9/site-packages (from scikit-learn->shap) (1.1.0)\n",
      "Requirement already satisfied: threadpoolctl>=2.0.0 in /usr/local/pyenv/versions/3.9.1/lib/python3.9/site-packages (from scikit-learn->shap) (2.1.0)\n",
      "Installing collected packages: slicer, packaging, shap\n",
      "\u001b[31mERROR: pip's dependency resolver does not currently take into account all the packages that are installed. This behaviour is the source of the following dependency conflicts.\n",
      "streamlit 0.87.0 requires click<8.0,>=7.0, but you have click 8.1.3 which is incompatible.\u001b[0m\n",
      "Successfully installed packaging-21.3 shap-0.40.0 slicer-0.0.7\n",
      "\u001b[33mWARNING: You are using pip version 21.0.1; however, version 22.1 is available.\n",
      "You should consider upgrading via the '/usr/local/pyenv/versions/3.9.1/bin/python3.9 -m pip install --upgrade pip' command.\u001b[0m\n"
     ]
    }
   ],
   "source": [
    "!pip install shap"
   ]
  },
  {
   "cell_type": "code",
   "execution_count": null,
   "id": "e9bb9543-9c95-4f2c-876a-0af56e420fef",
   "metadata": {},
   "outputs": [],
   "source": [
    "%matplotlib inline\n",
    "\n",
    "import matplotlib.pyplot as plt\n",
    "\n",
    "import shap"
   ]
  },
  {
   "cell_type": "code",
   "execution_count": null,
   "id": "bd09a1bd-f7a0-431c-a26a-9f0c2b7145f1",
   "metadata": {},
   "outputs": [],
   "source": [
    "shap.initjs()\n",
    "\n",
    "explainer_rf = shap.TreeExplainer(model=model2, model_output='raw')"
   ]
  },
  {
   "cell_type": "code",
   "execution_count": null,
   "id": "fc689674-ab10-4699-984c-6cd19c67e33c",
   "metadata": {},
   "outputs": [],
   "source": [
    "shap_values_rf = explainer_rf.shap_values(X=X)"
   ]
  },
  {
   "cell_type": "code",
   "execution_count": null,
   "id": "e656dc15-c3a8-493e-ba7b-654c1d1415b2",
   "metadata": {},
   "outputs": [],
   "source": [
    "# rfの特徴量の重要度\n",
    "shap.initjs()\n",
    "shap.summary_plot(shap_values_rf, X, plot_type=\"bar\")"
   ]
  },
  {
   "cell_type": "code",
   "execution_count": null,
   "id": "2712e6ef-317d-48c0-bacb-f56a5646b6c0",
   "metadata": {},
   "outputs": [],
   "source": [
    "# rfのforce_plot(shapley値と特徴変数の寄与度)\n",
    "shap.initjs()\n",
    "shap.force_plot(base_value=explainer_rf.expected_value, shap_values=shap_values_rf, features=X)"
   ]
  },
  {
   "cell_type": "code",
   "execution_count": null,
   "id": "63223004-3bec-4411-8c19-e26fec0389a1",
   "metadata": {},
   "outputs": [],
   "source": []
  },
  {
   "cell_type": "code",
   "execution_count": null,
   "id": "42c3f506-4532-4f47-aa6b-5ebd7467d665",
   "metadata": {},
   "outputs": [],
   "source": []
  }
 ],
 "metadata": {
  "kernelspec": {
   "display_name": "Python 3",
   "language": "python",
   "name": "python3"
  },
  "language_info": {
   "codemirror_mode": {
    "name": "ipython",
    "version": 3
   },
   "file_extension": ".py",
   "mimetype": "text/x-python",
   "name": "python",
   "nbconvert_exporter": "python",
   "pygments_lexer": "ipython3",
   "version": "3.9.1"
  }
 },
 "nbformat": 4,
 "nbformat_minor": 5
}
